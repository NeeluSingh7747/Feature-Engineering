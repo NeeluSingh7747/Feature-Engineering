{
 "cells": [
  {
   "cell_type": "markdown",
   "id": "d6a7eae3",
   "metadata": {},
   "source": [
    "### Why Transformation of Features Are Required?\n",
    "\n",
    "1. Linear Regression---Gradient Descent ---- Global Minima\n",
    "2. Algorithms like KNN, K-Means, Hierarcichal Clustering ----- Eucledian Distance\n",
    "\n",
    "###### Every Point has some Vector and Directions\n",
    "\n",
    "###### Deep Learning:(Standardization, Scaling)\n",
    "1. ANN------Global Minima, Gradient Descent\n",
    "2. CNN-----images(0-255, pixels) transform 0-1\n",
    "3. RNN\n",
    "\n",
    "   Ensemble techniqies dont require transformation, DT,RF,XGboost,Adaboost etc."
   ]
  },
  {
   "cell_type": "markdown",
   "id": "58475dbd",
   "metadata": {},
   "source": [
    "### Types of Transformation\n",
    "1. Normalization and Standardization\n",
    "2. Scaling to Minimum and Maximum values\n",
    "3. Scaling to median and Quantiles\n",
    "4. Gaussian Transformation\n",
    "\n",
    "   Logarithmic Transformation\n",
    "   \n",
    "   Reciprocal Transformation\n",
    "   \n",
    "   Square Root Transformation\n",
    "   \n",
    "   Exponential transformation\n",
    "   \n",
    "   Box Cox Transformation"
   ]
  },
  {
   "cell_type": "markdown",
   "id": "1f7042f3",
   "metadata": {},
   "source": [
    "### Standardization  (Most common one)\n",
    "We try to bring all the variables or features to similar scale. standardization means contering the variable at zero\n",
    "\n",
    "z=(x-x_mean)/std"
   ]
  },
  {
   "cell_type": "code",
   "execution_count": 1,
   "id": "20e10152",
   "metadata": {},
   "outputs": [],
   "source": [
    "import pandas as pd"
   ]
  },
  {
   "cell_type": "code",
   "execution_count": 2,
   "id": "bd248882",
   "metadata": {},
   "outputs": [
    {
     "data": {
      "text/html": [
       "<div>\n",
       "<style scoped>\n",
       "    .dataframe tbody tr th:only-of-type {\n",
       "        vertical-align: middle;\n",
       "    }\n",
       "\n",
       "    .dataframe tbody tr th {\n",
       "        vertical-align: top;\n",
       "    }\n",
       "\n",
       "    .dataframe thead th {\n",
       "        text-align: right;\n",
       "    }\n",
       "</style>\n",
       "<table border=\"1\" class=\"dataframe\">\n",
       "  <thead>\n",
       "    <tr style=\"text-align: right;\">\n",
       "      <th></th>\n",
       "      <th>pclass</th>\n",
       "      <th>age</th>\n",
       "      <th>fare</th>\n",
       "      <th>survived</th>\n",
       "    </tr>\n",
       "  </thead>\n",
       "  <tbody>\n",
       "    <tr>\n",
       "      <th>0</th>\n",
       "      <td>3</td>\n",
       "      <td>NaN</td>\n",
       "      <td>7.7333</td>\n",
       "      <td>1</td>\n",
       "    </tr>\n",
       "    <tr>\n",
       "      <th>1</th>\n",
       "      <td>3</td>\n",
       "      <td>38.0</td>\n",
       "      <td>8.6625</td>\n",
       "      <td>0</td>\n",
       "    </tr>\n",
       "    <tr>\n",
       "      <th>2</th>\n",
       "      <td>3</td>\n",
       "      <td>30.0</td>\n",
       "      <td>24.1500</td>\n",
       "      <td>0</td>\n",
       "    </tr>\n",
       "    <tr>\n",
       "      <th>3</th>\n",
       "      <td>2</td>\n",
       "      <td>54.0</td>\n",
       "      <td>23.0000</td>\n",
       "      <td>1</td>\n",
       "    </tr>\n",
       "    <tr>\n",
       "      <th>4</th>\n",
       "      <td>2</td>\n",
       "      <td>40.0</td>\n",
       "      <td>13.0000</td>\n",
       "      <td>0</td>\n",
       "    </tr>\n",
       "  </tbody>\n",
       "</table>\n",
       "</div>"
      ],
      "text/plain": [
       "   pclass   age     fare  survived\n",
       "0       3   NaN   7.7333         1\n",
       "1       3  38.0   8.6625         0\n",
       "2       3  30.0  24.1500         0\n",
       "3       2  54.0  23.0000         1\n",
       "4       2  40.0  13.0000         0"
      ]
     },
     "execution_count": 2,
     "metadata": {},
     "output_type": "execute_result"
    }
   ],
   "source": [
    "\n",
    "df = pd.read_csv('titanic_train.csv',usecols=['pclass', 'age','fare','survived'])\n",
    "df.head()"
   ]
  },
  {
   "cell_type": "code",
   "execution_count": 3,
   "id": "100e9001",
   "metadata": {},
   "outputs": [],
   "source": [
    "df.age.fillna(df.age.median(),inplace=True)"
   ]
  },
  {
   "cell_type": "code",
   "execution_count": 4,
   "id": "be898369",
   "metadata": {},
   "outputs": [
    {
     "data": {
      "text/plain": [
       "pclass      0\n",
       "age         0\n",
       "fare        1\n",
       "survived    0\n",
       "dtype: int64"
      ]
     },
     "execution_count": 4,
     "metadata": {},
     "output_type": "execute_result"
    }
   ],
   "source": [
    "df.isnull().sum()"
   ]
  },
  {
   "cell_type": "code",
   "execution_count": 5,
   "id": "d5f3f817",
   "metadata": {},
   "outputs": [],
   "source": [
    "#### Standardization: We use the standardscaler from sklearn library\n",
    "from  sklearn.preprocessing import StandardScaler"
   ]
  },
  {
   "cell_type": "code",
   "execution_count": 6,
   "id": "2d51d54e",
   "metadata": {},
   "outputs": [],
   "source": [
    "scaler = StandardScaler()  #it performs transformation of variable so we use fit_transform\n",
    "### fit vs fit_transform (IQ)\n",
    "df_scaled=scaler.fit_transform(df)"
   ]
  },
  {
   "cell_type": "code",
   "execution_count": 7,
   "id": "e71beae6",
   "metadata": {},
   "outputs": [
    {
     "data": {
      "text/html": [
       "<div>\n",
       "<style scoped>\n",
       "    .dataframe tbody tr th:only-of-type {\n",
       "        vertical-align: middle;\n",
       "    }\n",
       "\n",
       "    .dataframe tbody tr th {\n",
       "        vertical-align: top;\n",
       "    }\n",
       "\n",
       "    .dataframe thead th {\n",
       "        text-align: right;\n",
       "    }\n",
       "</style>\n",
       "<table border=\"1\" class=\"dataframe\">\n",
       "  <thead>\n",
       "    <tr style=\"text-align: right;\">\n",
       "      <th></th>\n",
       "      <th>0</th>\n",
       "      <th>1</th>\n",
       "      <th>2</th>\n",
       "      <th>3</th>\n",
       "    </tr>\n",
       "  </thead>\n",
       "  <tbody>\n",
       "    <tr>\n",
       "      <th>0</th>\n",
       "      <td>0.811420</td>\n",
       "      <td>-0.093041</td>\n",
       "      <td>-0.489610</td>\n",
       "      <td>1.309830</td>\n",
       "    </tr>\n",
       "    <tr>\n",
       "      <th>1</th>\n",
       "      <td>0.811420</td>\n",
       "      <td>0.676701</td>\n",
       "      <td>-0.472298</td>\n",
       "      <td>-0.763458</td>\n",
       "    </tr>\n",
       "    <tr>\n",
       "      <th>2</th>\n",
       "      <td>0.811420</td>\n",
       "      <td>0.060908</td>\n",
       "      <td>-0.183751</td>\n",
       "      <td>-0.763458</td>\n",
       "    </tr>\n",
       "    <tr>\n",
       "      <th>3</th>\n",
       "      <td>-0.381845</td>\n",
       "      <td>1.908287</td>\n",
       "      <td>-0.205177</td>\n",
       "      <td>1.309830</td>\n",
       "    </tr>\n",
       "    <tr>\n",
       "      <th>4</th>\n",
       "      <td>-0.381845</td>\n",
       "      <td>0.830649</td>\n",
       "      <td>-0.391486</td>\n",
       "      <td>-0.763458</td>\n",
       "    </tr>\n",
       "    <tr>\n",
       "      <th>...</th>\n",
       "      <td>...</td>\n",
       "      <td>...</td>\n",
       "      <td>...</td>\n",
       "      <td>...</td>\n",
       "    </tr>\n",
       "    <tr>\n",
       "      <th>845</th>\n",
       "      <td>-1.575110</td>\n",
       "      <td>1.985261</td>\n",
       "      <td>0.297858</td>\n",
       "      <td>-0.763458</td>\n",
       "    </tr>\n",
       "    <tr>\n",
       "      <th>846</th>\n",
       "      <td>-1.575110</td>\n",
       "      <td>2.216184</td>\n",
       "      <td>-0.080350</td>\n",
       "      <td>-0.763458</td>\n",
       "    </tr>\n",
       "    <tr>\n",
       "      <th>847</th>\n",
       "      <td>-0.381845</td>\n",
       "      <td>-0.400937</td>\n",
       "      <td>-0.149284</td>\n",
       "      <td>1.309830</td>\n",
       "    </tr>\n",
       "    <tr>\n",
       "      <th>848</th>\n",
       "      <td>0.811420</td>\n",
       "      <td>-2.017394</td>\n",
       "      <td>-0.377048</td>\n",
       "      <td>-0.763458</td>\n",
       "    </tr>\n",
       "    <tr>\n",
       "      <th>849</th>\n",
       "      <td>-0.381845</td>\n",
       "      <td>1.754339</td>\n",
       "      <td>-0.391486</td>\n",
       "      <td>-0.763458</td>\n",
       "    </tr>\n",
       "  </tbody>\n",
       "</table>\n",
       "<p>850 rows × 4 columns</p>\n",
       "</div>"
      ],
      "text/plain": [
       "            0         1         2         3\n",
       "0    0.811420 -0.093041 -0.489610  1.309830\n",
       "1    0.811420  0.676701 -0.472298 -0.763458\n",
       "2    0.811420  0.060908 -0.183751 -0.763458\n",
       "3   -0.381845  1.908287 -0.205177  1.309830\n",
       "4   -0.381845  0.830649 -0.391486 -0.763458\n",
       "..        ...       ...       ...       ...\n",
       "845 -1.575110  1.985261  0.297858 -0.763458\n",
       "846 -1.575110  2.216184 -0.080350 -0.763458\n",
       "847 -0.381845 -0.400937 -0.149284  1.309830\n",
       "848  0.811420 -2.017394 -0.377048 -0.763458\n",
       "849 -0.381845  1.754339 -0.391486 -0.763458\n",
       "\n",
       "[850 rows x 4 columns]"
      ]
     },
     "execution_count": 7,
     "metadata": {},
     "output_type": "execute_result"
    }
   ],
   "source": [
    "pd.DataFrame(df_scaled) "
   ]
  },
  {
   "cell_type": "code",
   "execution_count": 8,
   "id": "85cf8a47",
   "metadata": {},
   "outputs": [],
   "source": [
    "import matplotlib.pyplot as plt\n",
    "%matplotlib inline"
   ]
  },
  {
   "cell_type": "code",
   "execution_count": 9,
   "id": "4e6ba245",
   "metadata": {},
   "outputs": [
    {
     "data": {
      "text/plain": [
       "(array([206.,   0.,   0.,   0.,   0.,   0.,   0.,   0.,   0., 166.,   0.,\n",
       "          0.,   0.,   0.,   0.,   0.,   0.,   0.,   0., 478.]),\n",
       " array([-1.5751096 , -1.45578311, -1.33645663, -1.21713014, -1.09780366,\n",
       "        -0.97847718, -0.85915069, -0.73982421, -0.62049772, -0.50117124,\n",
       "        -0.38184475, -0.26251827, -0.14319178, -0.0238653 ,  0.09546119,\n",
       "         0.21478767,  0.33411416,  0.45344064,  0.57276713,  0.69209361,\n",
       "         0.8114201 ]),\n",
       " <BarContainer object of 20 artists>)"
      ]
     },
     "execution_count": 9,
     "metadata": {},
     "output_type": "execute_result"
    },
    {
     "data": {
      "image/png": "[encoded data removed]",
      "text/plain": [
       "<Figure size 432x288 with 1 Axes>"
      ]
     },
     "metadata": {
      "needs_background": "light"
     },
     "output_type": "display_data"
    }
   ],
   "source": [
    "plt.hist(df_scaled[:,0],bins=20)  "
   ]
  },
  {
   "cell_type": "code",
   "execution_count": 10,
   "id": "d7e03999",
   "metadata": {},
   "outputs": [
    {
     "data": {
      "text/plain": [
       "(array([ 35.,  14.,  16.,  27.,  81.,  96., 258.,  86.,  65.,  35.,  23.,\n",
       "         31.,  28.,  20.,  15.,  12.,   3.,   2.,   2.,   1.]),\n",
       " array([-2.23548527, -1.92823024, -1.62097522, -1.31372019, -1.00646517,\n",
       "        -0.69921014, -0.39195511, -0.08470009,  0.22255494,  0.52980996,\n",
       "         0.83706499,  1.14432002,  1.45157504,  1.75883007,  2.06608509,\n",
       "         2.37334012,  2.68059515,  2.98785017,  3.2951052 ,  3.60236022,\n",
       "         3.90961525]),\n",
       " <BarContainer object of 20 artists>)"
      ]
     },
     "execution_count": 10,
     "metadata": {},
     "output_type": "execute_result"
    },
    {
     "data": {
      "image/png": "[encoded data removed]",
      "text/plain": [
       "<Figure size 432x288 with 1 Axes>"
      ]
     },
     "metadata": {
      "needs_background": "light"
     },
     "output_type": "display_data"
    }
   ],
   "source": [
    "plt.hist(df_scaled[:,1],bins=20) "
   ]
  },
  {
   "cell_type": "code",
   "execution_count": 11,
   "id": "692c3849",
   "metadata": {},
   "outputs": [
    {
     "data": {
      "text/plain": [
       "(array([543., 144.,  71.,  34.,  13.,  14.,   3.,   0.,  14.,   1.,   9.,\n",
       "          0.,   0.,   0.,   0.,   0.,   0.,   0.,   0.,   3.]),\n",
       " array([-0.63368878, -0.15642991,  0.32082896,  0.79808783,  1.27534671,\n",
       "         1.75260558,  2.22986445,  2.70712332,  3.18438219,  3.66164106,\n",
       "         4.13889993,  4.6161588 ,  5.09341768,  5.57067655,  6.04793542,\n",
       "         6.52519429,  7.00245316,  7.47971203,  7.9569709 ,  8.43422977,\n",
       "         8.91148865]),\n",
       " <BarContainer object of 20 artists>)"
      ]
     },
     "execution_count": 11,
     "metadata": {},
     "output_type": "execute_result"
    },
    {
     "data": {
      "image/png": "[encoded data removed]",
      "text/plain": [
       "<Figure size 432x288 with 1 Axes>"
      ]
     },
     "metadata": {
      "needs_background": "light"
     },
     "output_type": "display_data"
    }
   ],
   "source": [
    "plt.hist(df_scaled[:,2],bins=20) #fare right skewed"
   ]
  },
  {
   "cell_type": "code",
   "execution_count": 12,
   "id": "1367c07d",
   "metadata": {},
   "outputs": [
    {
     "data": {
      "text/plain": [
       "(array([543., 144.,  71.,  34.,  13.,  14.,   3.,   0.,  14.,   1.,   9.,\n",
       "          0.,   0.,   0.,   0.,   0.,   0.,   0.,   0.,   3.]),\n",
       " array([  0.     ,  25.61646,  51.23292,  76.84938, 102.46584, 128.0823 ,\n",
       "        153.69876, 179.31522, 204.93168, 230.54814, 256.1646 , 281.78106,\n",
       "        307.39752, 333.01398, 358.63044, 384.2469 , 409.86336, 435.47982,\n",
       "        461.09628, 486.71274, 512.3292 ]),\n",
       " <BarContainer object of 20 artists>)"
      ]
     },
     "execution_count": 12,
     "metadata": {},
     "output_type": "execute_result"
    },
    {
     "data": {
      "image/png": "[encoded data removed]",
      "text/plain": [
       "<Figure size 432x288 with 1 Axes>"
      ]
     },
     "metadata": {
      "needs_background": "light"
     },
     "output_type": "display_data"
    }
   ],
   "source": [
    "plt.hist(df['fare'],bins=20)"
   ]
  },
  {
   "cell_type": "code",
   "execution_count": null,
   "id": "bcc3f360",
   "metadata": {},
   "outputs": [],
   "source": []
  },
  {
   "cell_type": "markdown",
   "id": "5e3545e4",
   "metadata": {},
   "source": [
    "### Min Max Scaling (CNN)---and  Deep Learning Technique\n",
    "    Min max Scaling the values between 0 to 1.\n",
    "    X_scaled = (X - X.min / X.max - X.min)\n",
    "    \n",
    "\n"
   ]
  },
  {
   "cell_type": "code",
   "execution_count": 13,
   "id": "afaaf32e",
   "metadata": {},
   "outputs": [
    {
     "data": {
      "text/html": [
       "<div>\n",
       "<style scoped>\n",
       "    .dataframe tbody tr th:only-of-type {\n",
       "        vertical-align: middle;\n",
       "    }\n",
       "\n",
       "    .dataframe tbody tr th {\n",
       "        vertical-align: top;\n",
       "    }\n",
       "\n",
       "    .dataframe thead th {\n",
       "        text-align: right;\n",
       "    }\n",
       "</style>\n",
       "<table border=\"1\" class=\"dataframe\">\n",
       "  <thead>\n",
       "    <tr style=\"text-align: right;\">\n",
       "      <th></th>\n",
       "      <th>pclass</th>\n",
       "      <th>age</th>\n",
       "      <th>fare</th>\n",
       "      <th>survived</th>\n",
       "    </tr>\n",
       "  </thead>\n",
       "  <tbody>\n",
       "    <tr>\n",
       "      <th>0</th>\n",
       "      <td>1.0</td>\n",
       "      <td>0.348643</td>\n",
       "      <td>0.015094</td>\n",
       "      <td>1.0</td>\n",
       "    </tr>\n",
       "    <tr>\n",
       "      <th>1</th>\n",
       "      <td>1.0</td>\n",
       "      <td>0.473904</td>\n",
       "      <td>0.016908</td>\n",
       "      <td>0.0</td>\n",
       "    </tr>\n",
       "    <tr>\n",
       "      <th>2</th>\n",
       "      <td>1.0</td>\n",
       "      <td>0.373695</td>\n",
       "      <td>0.047138</td>\n",
       "      <td>0.0</td>\n",
       "    </tr>\n",
       "    <tr>\n",
       "      <th>3</th>\n",
       "      <td>0.5</td>\n",
       "      <td>0.674321</td>\n",
       "      <td>0.044893</td>\n",
       "      <td>1.0</td>\n",
       "    </tr>\n",
       "    <tr>\n",
       "      <th>4</th>\n",
       "      <td>0.5</td>\n",
       "      <td>0.498956</td>\n",
       "      <td>0.025374</td>\n",
       "      <td>0.0</td>\n",
       "    </tr>\n",
       "  </tbody>\n",
       "</table>\n",
       "</div>"
      ],
      "text/plain": [
       "   pclass       age      fare  survived\n",
       "0     1.0  0.348643  0.015094       1.0\n",
       "1     1.0  0.473904  0.016908       0.0\n",
       "2     1.0  0.373695  0.047138       0.0\n",
       "3     0.5  0.674321  0.044893       1.0\n",
       "4     0.5  0.498956  0.025374       0.0"
      ]
     },
     "execution_count": 13,
     "metadata": {},
     "output_type": "execute_result"
    }
   ],
   "source": [
    "from sklearn.preprocessing import MinMaxScaler\n",
    "min_max = MinMaxScaler()\n",
    "df_minmax = pd.DataFrame(min_max.fit_transform(df),columns=df.columns)\n",
    "df_minmax.head()"
   ]
  },
  {
   "cell_type": "code",
   "execution_count": 14,
   "id": "7a3af3a3",
   "metadata": {},
   "outputs": [
    {
     "data": {
      "text/plain": [
       "(array([206.,   0.,   0.,   0.,   0.,   0.,   0.,   0.,   0.,   0., 166.,\n",
       "          0.,   0.,   0.,   0.,   0.,   0.,   0.,   0., 478.]),\n",
       " array([0.  , 0.05, 0.1 , 0.15, 0.2 , 0.25, 0.3 , 0.35, 0.4 , 0.45, 0.5 ,\n",
       "        0.55, 0.6 , 0.65, 0.7 , 0.75, 0.8 , 0.85, 0.9 , 0.95, 1.  ]),\n",
       " <BarContainer object of 20 artists>)"
      ]
     },
     "execution_count": 14,
     "metadata": {},
     "output_type": "execute_result"
    },
    {
     "data": {
      "image/png": "[encoded data removed]",
      "text/plain": [
       "<Figure size 432x288 with 1 Axes>"
      ]
     },
     "metadata": {
      "needs_background": "light"
     },
     "output_type": "display_data"
    }
   ],
   "source": [
    "plt.hist(df_minmax['pclass'],bins=20)"
   ]
  },
  {
   "cell_type": "code",
   "execution_count": 15,
   "id": "fbeb8e34",
   "metadata": {},
   "outputs": [
    {
     "data": {
      "text/plain": [
       "(array([ 35.,  14.,  16.,  27.,  81.,  96., 258.,  86.,  65.,  35.,  23.,\n",
       "         31.,  28.,  20.,  15.,  12.,   3.,   2.,   2.,   1.]),\n",
       " array([0.  , 0.05, 0.1 , 0.15, 0.2 , 0.25, 0.3 , 0.35, 0.4 , 0.45, 0.5 ,\n",
       "        0.55, 0.6 , 0.65, 0.7 , 0.75, 0.8 , 0.85, 0.9 , 0.95, 1.  ]),\n",
       " <BarContainer object of 20 artists>)"
      ]
     },
     "execution_count": 15,
     "metadata": {},
     "output_type": "execute_result"
    },
    {
     "data": {
      "image/png": "[encoded data removed]",
      "text/plain": [
       "<Figure size 432x288 with 1 Axes>"
      ]
     },
     "metadata": {
      "needs_background": "light"
     },
     "output_type": "display_data"
    }
   ],
   "source": [
    "plt.hist(df_minmax['age'],bins=20)"
   ]
  },
  {
   "cell_type": "code",
   "execution_count": 16,
   "id": "4e68f2f6",
   "metadata": {},
   "outputs": [
    {
     "data": {
      "text/plain": [
       "(array([543., 144.,  71.,  34.,  13.,  14.,   3.,   0.,  14.,   1.,   9.,\n",
       "          0.,   0.,   0.,   0.,   0.,   0.,   0.,   0.,   3.]),\n",
       " array([0.  , 0.05, 0.1 , 0.15, 0.2 , 0.25, 0.3 , 0.35, 0.4 , 0.45, 0.5 ,\n",
       "        0.55, 0.6 , 0.65, 0.7 , 0.75, 0.8 , 0.85, 0.9 , 0.95, 1.  ]),\n",
       " <BarContainer object of 20 artists>)"
      ]
     },
     "execution_count": 16,
     "metadata": {},
     "output_type": "execute_result"
    },
    {
     "data": {
      "image/png": "[encoded data removed]",
      "text/plain": [
       "<Figure size 432x288 with 1 Axes>"
      ]
     },
     "metadata": {
      "needs_background": "light"
     },
     "output_type": "display_data"
    }
   ],
   "source": [
    "plt.hist(df_minmax['fare'],bins=20)  #outlier at 10th "
   ]
  },
  {
   "cell_type": "markdown",
   "id": "731f14cd",
   "metadata": {},
   "source": [
    "### Robust Scaler \n",
    "    it is used to scale the features to median and quantiles\n",
    "    Scaling using median and quantile consists of substracting the median to all the observations, and then dividing by the interquantile difference. The interquantile diff is the diff between the 75th and 25th quantile:\n",
    "    \n",
    "    IQR = 75th qunatile - 25th quantile\n",
    "    \n",
    "    X_scaled = (X - X.median) / IQR\n",
    "    "
   ]
  },
  {
   "cell_type": "markdown",
   "id": "e017de7e",
   "metadata": {},
   "source": [
    "0,1,2,3,4,5,6,7,8,9,10\n",
    "\n",
    "9-90 percentile---90% of all values in this group is less than 9\n",
    "\n",
    "1-10 percentile---10% of all values in this group is less then 1\n",
    "\n",
    "4-10...\n"
   ]
  },
  {
   "cell_type": "code",
   "execution_count": 17,
   "id": "aea9c144",
   "metadata": {},
   "outputs": [
    {
     "data": {
      "text/html": [
       "<div>\n",
       "<style scoped>\n",
       "    .dataframe tbody tr th:only-of-type {\n",
       "        vertical-align: middle;\n",
       "    }\n",
       "\n",
       "    .dataframe tbody tr th {\n",
       "        vertical-align: top;\n",
       "    }\n",
       "\n",
       "    .dataframe thead th {\n",
       "        text-align: right;\n",
       "    }\n",
       "</style>\n",
       "<table border=\"1\" class=\"dataframe\">\n",
       "  <thead>\n",
       "    <tr style=\"text-align: right;\">\n",
       "      <th></th>\n",
       "      <th>pclass</th>\n",
       "      <th>age</th>\n",
       "      <th>fare</th>\n",
       "      <th>survived</th>\n",
       "    </tr>\n",
       "  </thead>\n",
       "  <tbody>\n",
       "    <tr>\n",
       "      <th>0</th>\n",
       "      <td>0.0</td>\n",
       "      <td>0.000000</td>\n",
       "      <td>-0.275924</td>\n",
       "      <td>1.0</td>\n",
       "    </tr>\n",
       "    <tr>\n",
       "      <th>1</th>\n",
       "      <td>0.0</td>\n",
       "      <td>0.776699</td>\n",
       "      <td>-0.235706</td>\n",
       "      <td>0.0</td>\n",
       "    </tr>\n",
       "    <tr>\n",
       "      <th>2</th>\n",
       "      <td>0.0</td>\n",
       "      <td>0.155340</td>\n",
       "      <td>0.434627</td>\n",
       "      <td>0.0</td>\n",
       "    </tr>\n",
       "    <tr>\n",
       "      <th>3</th>\n",
       "      <td>-1.0</td>\n",
       "      <td>2.019417</td>\n",
       "      <td>0.384852</td>\n",
       "      <td>1.0</td>\n",
       "    </tr>\n",
       "    <tr>\n",
       "      <th>4</th>\n",
       "      <td>-1.0</td>\n",
       "      <td>0.932039</td>\n",
       "      <td>-0.047970</td>\n",
       "      <td>0.0</td>\n",
       "    </tr>\n",
       "  </tbody>\n",
       "</table>\n",
       "</div>"
      ],
      "text/plain": [
       "   pclass       age      fare  survived\n",
       "0     0.0  0.000000 -0.275924       1.0\n",
       "1     0.0  0.776699 -0.235706       0.0\n",
       "2     0.0  0.155340  0.434627       0.0\n",
       "3    -1.0  2.019417  0.384852       1.0\n",
       "4    -1.0  0.932039 -0.047970       0.0"
      ]
     },
     "execution_count": 17,
     "metadata": {},
     "output_type": "execute_result"
    }
   ],
   "source": [
    "from sklearn.preprocessing import RobustScaler\n",
    "scaler = RobustScaler()                                   #shift + tab for documentation and TAB for autocomplete\n",
    "df_robust_scl = pd.DataFrame(scaler.fit_transform(df),columns=df.columns)\n",
    "df_robust_scl.head()"
   ]
  },
  {
   "cell_type": "code",
   "execution_count": 18,
   "id": "98abc1c3",
   "metadata": {},
   "outputs": [
    {
     "data": {
      "text/plain": [
       "(array([ 35.,  14.,  16.,  27.,  81.,  96., 258.,  86.,  65.,  35.,  23.,\n",
       "         31.,  28.,  20.,  15.,  12.,   3.,   2.,   2.,   1.]),\n",
       " array([-2.16180971, -1.85177748, -1.54174524, -1.23171301, -0.92168078,\n",
       "        -0.61164854, -0.30161631,  0.00841592,  0.31844816,  0.62848039,\n",
       "         0.93851262,  1.24854485,  1.55857709,  1.86860932,  2.17864155,\n",
       "         2.48867379,  2.79870602,  3.10873825,  3.41877049,  3.72880272,\n",
       "         4.03883495]),\n",
       " <BarContainer object of 20 artists>)"
      ]
     },
     "execution_count": 18,
     "metadata": {},
     "output_type": "execute_result"
    },
    {
     "data": {
      "image/png": "[encoded data removed]",
      "text/plain": [
       "<Figure size 432x288 with 1 Axes>"
      ]
     },
     "metadata": {
      "needs_background": "light"
     },
     "output_type": "display_data"
    }
   ],
   "source": [
    "plt.hist(df_robust_scl['age'],bins=20)"
   ]
  },
  {
   "cell_type": "code",
   "execution_count": 19,
   "id": "7f13e4f2",
   "metadata": {},
   "outputs": [
    {
     "data": {
      "text/plain": [
       "(array([543., 144.,  71.,  34.,  13.,  14.,   3.,   0.,  14.,   1.,   9.,\n",
       "          0.,   0.,   0.,   0.,   0.,   0.,   0.,   0.,   3.]),\n",
       " array([-0.61063789,  0.49809818,  1.60683426,  2.71557033,  3.8243064 ,\n",
       "         4.93304248,  6.04177855,  7.15051463,  8.2592507 ,  9.36798677,\n",
       "        10.47672285, 11.58545892, 12.69419499, 13.80293107, 14.91166714,\n",
       "        16.02040322, 17.12913929, 18.23787536, 19.34661144, 20.45534751,\n",
       "        21.56408359]),\n",
       " <BarContainer object of 20 artists>)"
      ]
     },
     "execution_count": 19,
     "metadata": {},
     "output_type": "execute_result"
    },
    {
     "data": {
      "image/png": "[encoded data removed]",
      "text/plain": [
       "<Figure size 432x288 with 1 Axes>"
      ]
     },
     "metadata": {
      "needs_background": "light"
     },
     "output_type": "display_data"
    }
   ],
   "source": [
    "plt.hist(df_robust_scl['fare'],bins=20)"
   ]
  },
  {
   "cell_type": "markdown",
   "id": "b443e6e5",
   "metadata": {},
   "source": [
    "### Gaussian Transformation (basically mean Normal Distribution)\n",
    "     Some ML algorithms like Linear and Logistic assume that the features are normally distributed\n",
    "     -Accuracy\n",
    "     -performance\n",
    "\n",
    "1. Logarithmic Transformation---(for skewed)\n",
    "2. Reciprocal Transformation\n",
    "3. Square Root Transformation\n",
    "4. Exponential transformation---(more general, we can use any exponent)\n",
    "5. Box Cox Transformation"
   ]
  },
  {
   "cell_type": "code",
   "execution_count": 20,
   "id": "01f541e4",
   "metadata": {},
   "outputs": [],
   "source": [
    "df = pd.read_csv('titanic_train.csv', usecols=['age','fare','survived'])"
   ]
  },
  {
   "cell_type": "code",
   "execution_count": 21,
   "id": "18caefce",
   "metadata": {},
   "outputs": [
    {
     "data": {
      "text/html": [
       "<div>\n",
       "<style scoped>\n",
       "    .dataframe tbody tr th:only-of-type {\n",
       "        vertical-align: middle;\n",
       "    }\n",
       "\n",
       "    .dataframe tbody tr th {\n",
       "        vertical-align: top;\n",
       "    }\n",
       "\n",
       "    .dataframe thead th {\n",
       "        text-align: right;\n",
       "    }\n",
       "</style>\n",
       "<table border=\"1\" class=\"dataframe\">\n",
       "  <thead>\n",
       "    <tr style=\"text-align: right;\">\n",
       "      <th></th>\n",
       "      <th>age</th>\n",
       "      <th>fare</th>\n",
       "      <th>survived</th>\n",
       "    </tr>\n",
       "  </thead>\n",
       "  <tbody>\n",
       "    <tr>\n",
       "      <th>0</th>\n",
       "      <td>NaN</td>\n",
       "      <td>7.7333</td>\n",
       "      <td>1</td>\n",
       "    </tr>\n",
       "    <tr>\n",
       "      <th>1</th>\n",
       "      <td>38.0</td>\n",
       "      <td>8.6625</td>\n",
       "      <td>0</td>\n",
       "    </tr>\n",
       "    <tr>\n",
       "      <th>2</th>\n",
       "      <td>30.0</td>\n",
       "      <td>24.1500</td>\n",
       "      <td>0</td>\n",
       "    </tr>\n",
       "    <tr>\n",
       "      <th>3</th>\n",
       "      <td>54.0</td>\n",
       "      <td>23.0000</td>\n",
       "      <td>1</td>\n",
       "    </tr>\n",
       "    <tr>\n",
       "      <th>4</th>\n",
       "      <td>40.0</td>\n",
       "      <td>13.0000</td>\n",
       "      <td>0</td>\n",
       "    </tr>\n",
       "  </tbody>\n",
       "</table>\n",
       "</div>"
      ],
      "text/plain": [
       "    age     fare  survived\n",
       "0   NaN   7.7333         1\n",
       "1  38.0   8.6625         0\n",
       "2  30.0  24.1500         0\n",
       "3  54.0  23.0000         1\n",
       "4  40.0  13.0000         0"
      ]
     },
     "execution_count": 21,
     "metadata": {},
     "output_type": "execute_result"
    }
   ],
   "source": [
    "df.head()"
   ]
  },
  {
   "cell_type": "code",
   "execution_count": 22,
   "id": "50b2b642",
   "metadata": {},
   "outputs": [],
   "source": [
    "df.age = df['age'].fillna(df['age'].median())"
   ]
  },
  {
   "cell_type": "code",
   "execution_count": 23,
   "id": "2903f7a9",
   "metadata": {},
   "outputs": [],
   "source": [
    "df.age = df['age'].fillna(df['age'].median())"
   ]
  },
  {
   "cell_type": "code",
   "execution_count": 24,
   "id": "0fd59415",
   "metadata": {},
   "outputs": [
    {
     "data": {
      "text/plain": [
       "age         0\n",
       "fare        1\n",
       "survived    0\n",
       "dtype: int64"
      ]
     },
     "execution_count": 24,
     "metadata": {},
     "output_type": "execute_result"
    }
   ],
   "source": [
    "df.isnull().sum()"
   ]
  },
  {
   "cell_type": "markdown",
   "id": "87a49b4b",
   "metadata": {},
   "source": [
    "#### if you want to check whether the feature is Gaussian or Normal Distributed\n",
    "#### we use Q-Q Plot"
   ]
  },
  {
   "cell_type": "code",
   "execution_count": 25,
   "id": "46d01f4e",
   "metadata": {},
   "outputs": [],
   "source": [
    "import scipy.stats as stat # for Q-Q plot\n",
    "import pylab"
   ]
  },
  {
   "cell_type": "code",
   "execution_count": 26,
   "id": "ed941586",
   "metadata": {},
   "outputs": [],
   "source": [
    "def plot_data(df,feature):\n",
    "    plt.figure(figsize=(10,6))\n",
    "    plt.subplot(1,2,1)\n",
    "    df[feature].hist()\n",
    "    plt.subplot(1,2,2)\n",
    "    stat.probplot(df[feature],dist='norm',plot=pylab)\n",
    "    plt.show()\n",
    "    "
   ]
  },
  {
   "cell_type": "code",
   "execution_count": 27,
   "id": "bb179113",
   "metadata": {},
   "outputs": [
    {
     "data": {
      "image/png": "[encoded data removed]",
      "text/plain": [
       "<Figure size 720x432 with 2 Axes>"
      ]
     },
     "metadata": {
      "needs_background": "light"
     },
     "output_type": "display_data"
    }
   ],
   "source": [
    "plot_data(df,'age')"
   ]
  },
  {
   "cell_type": "markdown",
   "id": "7c03af64",
   "metadata": {},
   "source": [
    "### Logrithmic Transformation"
   ]
  },
  {
   "cell_type": "code",
   "execution_count": 28,
   "id": "4c7a8d5b",
   "metadata": {},
   "outputs": [
    {
     "data": {
      "image/png": "[encoded data removed]",
      "text/plain": [
       "<Figure size 720x432 with 2 Axes>"
      ]
     },
     "metadata": {
      "needs_background": "light"
     },
     "output_type": "display_data"
    }
   ],
   "source": [
    "import numpy as np\n",
    "df['age_log'] = np.log1p(df['age'])   \n",
    "plot_data(df,'age_log')\n"
   ]
  },
  {
   "cell_type": "markdown",
   "id": "d94eca2d",
   "metadata": {},
   "source": [
    "#### Reciprocal Transformation (Reverse)\n"
   ]
  },
  {
   "cell_type": "code",
   "execution_count": 29,
   "id": "578f6383",
   "metadata": {},
   "outputs": [
    {
     "data": {
      "image/png": "[encoded data removed]",
      "text/plain": [
       "<Figure size 720x432 with 2 Axes>"
      ]
     },
     "metadata": {
      "needs_background": "light"
     },
     "output_type": "display_data"
    }
   ],
   "source": [
    "df['age_rec'] = 1/df.age\n",
    "plot_data(df,'age_rec')"
   ]
  },
  {
   "cell_type": "markdown",
   "id": "158343a9",
   "metadata": {},
   "source": [
    "#### Make sure the data does not have (for these abv stats to perform otherwise gives error)\n",
    "\n",
    "Null/None\n",
    "\n",
    "\"\"/empty string\n",
    "\n",
    "Too many zeros (0)\n",
    "\n",
    "float('inf') or float('-inf')"
   ]
  },
  {
   "cell_type": "code",
   "execution_count": 30,
   "id": "c568af01",
   "metadata": {},
   "outputs": [
    {
     "data": {
      "text/html": [
       "<div>\n",
       "<style scoped>\n",
       "    .dataframe tbody tr th:only-of-type {\n",
       "        vertical-align: middle;\n",
       "    }\n",
       "\n",
       "    .dataframe tbody tr th {\n",
       "        vertical-align: top;\n",
       "    }\n",
       "\n",
       "    .dataframe thead th {\n",
       "        text-align: right;\n",
       "    }\n",
       "</style>\n",
       "<table border=\"1\" class=\"dataframe\">\n",
       "  <thead>\n",
       "    <tr style=\"text-align: right;\">\n",
       "      <th></th>\n",
       "      <th>age</th>\n",
       "      <th>fare</th>\n",
       "      <th>survived</th>\n",
       "      <th>age_log</th>\n",
       "      <th>age_rec</th>\n",
       "    </tr>\n",
       "  </thead>\n",
       "  <tbody>\n",
       "    <tr>\n",
       "      <th>0</th>\n",
       "      <td>28.0</td>\n",
       "      <td>7.7333</td>\n",
       "      <td>1</td>\n",
       "      <td>3.367296</td>\n",
       "      <td>0.035714</td>\n",
       "    </tr>\n",
       "    <tr>\n",
       "      <th>1</th>\n",
       "      <td>38.0</td>\n",
       "      <td>8.6625</td>\n",
       "      <td>0</td>\n",
       "      <td>3.663562</td>\n",
       "      <td>0.026316</td>\n",
       "    </tr>\n",
       "    <tr>\n",
       "      <th>2</th>\n",
       "      <td>30.0</td>\n",
       "      <td>24.1500</td>\n",
       "      <td>0</td>\n",
       "      <td>3.433987</td>\n",
       "      <td>0.033333</td>\n",
       "    </tr>\n",
       "    <tr>\n",
       "      <th>3</th>\n",
       "      <td>54.0</td>\n",
       "      <td>23.0000</td>\n",
       "      <td>1</td>\n",
       "      <td>4.007333</td>\n",
       "      <td>0.018519</td>\n",
       "    </tr>\n",
       "    <tr>\n",
       "      <th>4</th>\n",
       "      <td>40.0</td>\n",
       "      <td>13.0000</td>\n",
       "      <td>0</td>\n",
       "      <td>3.713572</td>\n",
       "      <td>0.025000</td>\n",
       "    </tr>\n",
       "    <tr>\n",
       "      <th>...</th>\n",
       "      <td>...</td>\n",
       "      <td>...</td>\n",
       "      <td>...</td>\n",
       "      <td>...</td>\n",
       "      <td>...</td>\n",
       "    </tr>\n",
       "    <tr>\n",
       "      <th>845</th>\n",
       "      <td>55.0</td>\n",
       "      <td>50.0000</td>\n",
       "      <td>0</td>\n",
       "      <td>4.025352</td>\n",
       "      <td>0.018182</td>\n",
       "    </tr>\n",
       "    <tr>\n",
       "      <th>846</th>\n",
       "      <td>58.0</td>\n",
       "      <td>29.7000</td>\n",
       "      <td>0</td>\n",
       "      <td>4.077537</td>\n",
       "      <td>0.017241</td>\n",
       "    </tr>\n",
       "    <tr>\n",
       "      <th>847</th>\n",
       "      <td>24.0</td>\n",
       "      <td>26.0000</td>\n",
       "      <td>1</td>\n",
       "      <td>3.218876</td>\n",
       "      <td>0.041667</td>\n",
       "    </tr>\n",
       "    <tr>\n",
       "      <th>848</th>\n",
       "      <td>3.0</td>\n",
       "      <td>13.7750</td>\n",
       "      <td>0</td>\n",
       "      <td>1.386294</td>\n",
       "      <td>0.333333</td>\n",
       "    </tr>\n",
       "    <tr>\n",
       "      <th>849</th>\n",
       "      <td>52.0</td>\n",
       "      <td>13.0000</td>\n",
       "      <td>0</td>\n",
       "      <td>3.970292</td>\n",
       "      <td>0.019231</td>\n",
       "    </tr>\n",
       "  </tbody>\n",
       "</table>\n",
       "<p>850 rows × 5 columns</p>\n",
       "</div>"
      ],
      "text/plain": [
       "      age     fare  survived   age_log   age_rec\n",
       "0    28.0   7.7333         1  3.367296  0.035714\n",
       "1    38.0   8.6625         0  3.663562  0.026316\n",
       "2    30.0  24.1500         0  3.433987  0.033333\n",
       "3    54.0  23.0000         1  4.007333  0.018519\n",
       "4    40.0  13.0000         0  3.713572  0.025000\n",
       "..    ...      ...       ...       ...       ...\n",
       "845  55.0  50.0000         0  4.025352  0.018182\n",
       "846  58.0  29.7000         0  4.077537  0.017241\n",
       "847  24.0  26.0000         1  3.218876  0.041667\n",
       "848   3.0  13.7750         0  1.386294  0.333333\n",
       "849  52.0  13.0000         0  3.970292  0.019231\n",
       "\n",
       "[850 rows x 5 columns]"
      ]
     },
     "execution_count": 30,
     "metadata": {},
     "output_type": "execute_result"
    }
   ],
   "source": [
    "df[np.isfinite(df['age_rec'])]     "
   ]
  },
  {
   "cell_type": "markdown",
   "id": "0bdccb6d",
   "metadata": {},
   "source": [
    "#### Square Root Transformation"
   ]
  },
  {
   "cell_type": "code",
   "execution_count": 31,
   "id": "0ce3fa97",
   "metadata": {},
   "outputs": [
    {
     "data": {
      "image/png": "[encoded data removed]",
      "text/plain": [
       "<Figure size 720x432 with 2 Axes>"
      ]
     },
     "metadata": {
      "needs_background": "light"
     },
     "output_type": "display_data"
    }
   ],
   "source": [
    "df['age_sq'] = df.age**(1/2)\n",
    "plot_data(df,'age_sq')"
   ]
  },
  {
   "cell_type": "markdown",
   "id": "9e1d9fdc",
   "metadata": {},
   "source": [
    "#### Exponential Transformation"
   ]
  },
  {
   "cell_type": "code",
   "execution_count": 32,
   "id": "b748153e",
   "metadata": {},
   "outputs": [
    {
     "data": {
      "image/png": "[encoded data removed]",
      "text/plain": [
       "<Figure size 720x432 with 2 Axes>"
      ]
     },
     "metadata": {
      "needs_background": "light"
     },
     "output_type": "display_data"
    }
   ],
   "source": [
    "df['age_expo'] = df.age**(1/1.2)\n",
    "plot_data(df,'age_expo')"
   ]
  },
  {
   "cell_type": "markdown",
   "id": "d8a31dab",
   "metadata": {},
   "source": [
    "#### Box Cox Transformation\n",
    "\n",
    "The box cox transformation is defined as \n",
    "\n",
    "T(Y) = (Y exp(lembda)-1)/lembda\n",
    "\n",
    "where Y is response variable \n",
    "\n",
    "and Lembda is the transformation parameter, Lembda varies from -5 to 5.\n",
    "\n",
    "In the transformation, all values of lembda are considered and the optional value for a given variable is selected."
   ]
  },
  {
   "cell_type": "code",
   "execution_count": 33,
   "id": "e76de781",
   "metadata": {},
   "outputs": [],
   "source": [
    "df['age_boxcox'],parameters = stat.boxcox(df['age'])"
   ]
  },
  {
   "cell_type": "code",
   "execution_count": 34,
   "id": "4bac5da8",
   "metadata": {},
   "outputs": [
    {
     "name": "stdout",
     "output_type": "stream",
     "text": [
      "0.7706329165332146\n"
     ]
    }
   ],
   "source": [
    "print(parameters)"
   ]
  },
  {
   "cell_type": "code",
   "execution_count": 35,
   "id": "637d1c77",
   "metadata": {},
   "outputs": [
    {
     "data": {
      "image/png": "[encoded data removed]",
      "text/plain": [
       "<Figure size 720x432 with 2 Axes>"
      ]
     },
     "metadata": {
      "needs_background": "light"
     },
     "output_type": "display_data"
    }
   ],
   "source": [
    "plot_data(df,'age_boxcox')"
   ]
  },
  {
   "cell_type": "code",
   "execution_count": 37,
   "id": "b8e221c3",
   "metadata": {},
   "outputs": [
    {
     "data": {
      "image/png": "[encoded data removed]",
      "text/plain": [
       "<Figure size 720x432 with 2 Axes>"
      ]
     },
     "metadata": {
      "needs_background": "light"
     },
     "output_type": "display_data"
    }
   ],
   "source": [
    "plot_data(df,'fare')  #right skewed"
   ]
  },
  {
   "cell_type": "code",
   "execution_count": 43,
   "id": "ff3db21c",
   "metadata": {},
   "outputs": [
    {
     "data": {
      "image/png": "[encoded data removed]",
      "text/plain": [
       "<Figure size 720x432 with 2 Axes>"
      ]
     },
     "metadata": {
      "needs_background": "light"
     },
     "output_type": "display_data"
    }
   ],
   "source": [
    "df['fare_log'] = np.log1p(df.fare)   #log1p to avoid the error of log 0 or tiny arguments\n",
    "plot_data(df,'fare_log')"
   ]
  },
  {
   "cell_type": "code",
   "execution_count": 44,
   "id": "5108eaaa",
   "metadata": {},
   "outputs": [
    {
     "data": {
      "image/png": "[encoded data removed]",
      "text/plain": [
       "<Figure size 720x432 with 2 Axes>"
      ]
     },
     "metadata": {
      "needs_background": "light"
     },
     "output_type": "display_data"
    }
   ],
   "source": [
    "df['fare_boxcox'],parameters = stat.boxcox(df['fare']+1)   #erorr:Data must be positive. use +1\n",
    "plot_data(df,'fare_boxcox')"
   ]
  },
  {
   "cell_type": "code",
   "execution_count": null,
   "id": "5ea4ee2b",
   "metadata": {},
   "outputs": [],
   "source": []
  },
  {
   "cell_type": "code",
   "execution_count": null,
   "id": "871d6e71",
   "metadata": {},
   "outputs": [],
   "source": []
  },
  {
   "cell_type": "code",
   "execution_count": null,
   "id": "bd72b4bf",
   "metadata": {},
   "outputs": [],
   "source": []
  },
  {
   "cell_type": "code",
   "execution_count": null,
   "id": "2980f9f7",
   "metadata": {},
   "outputs": [],
   "source": []
  },
  {
   "cell_type": "code",
   "execution_count": null,
   "id": "1fe48c2b",
   "metadata": {},
   "outputs": [],
   "source": []
  },
  {
   "cell_type": "code",
   "execution_count": null,
   "id": "56227485",
   "metadata": {},
   "outputs": [],
   "source": []
  },
  {
   "cell_type": "code",
   "execution_count": null,
   "id": "054f1b34",
   "metadata": {},
   "outputs": [],
   "source": []
  }
 ],
 "metadata": {
  "kernelspec": {
   "display_name": "Python 3",
   "language": "python",
   "name": "python3"
  },
  "language_info": {
   "codemirror_mode": {
    "name": "ipython",
    "version": 3
   },
   "file_extension": ".py",
   "mimetype": "text/x-python",
   "name": "python",
   "nbconvert_exporter": "python",
   "pygments_lexer": "ipython3",
   "version": "3.8.8"
  }
 },
 "nbformat": 4,
 "nbformat_minor": 5
}
